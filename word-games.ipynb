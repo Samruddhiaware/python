{
 "cells": [
  {
   "cell_type": "code",
   "execution_count": null,
   "id": "c2de3f5d-493b-469c-bcd9-6fd95a900536",
   "metadata": {},
   "outputs": [],
   "source": [
    "# Ask user to guess letter at random blank space in prompted word\n",
    "import random\n",
    "list = ['Apple','Mango','Hello','Kitkat']\n",
    "point = 0\n",
    "for i in list:\n",
    "    word = i\n",
    "   \n",
    "    for j in range(0,len(i)):\n",
    "        if j==k :\n",
    "            print(\"_\", end=\"\")\n",
    "        else:\n",
    "            print(i[j], end=\"\")\n",
    "    guess=0\n",
    "    while guess<2:\n",
    "        letter = input(\"Enter your guess: \")\n",
    "        if(letter == i[k]):\n",
    "            print(\"Your guess is correct\")\n",
    "            point = point + 1\n",
    "            guess = 2           \n",
    "        else:\n",
    "            print(\"Incorrect guess, try again\")\n",
    "            guess = guess + 1\n",
    "            point = point - 0.5\n",
    "        print(\"\")\n",
    "print(\"Final Points\", point)"
   ]
  },
  {
   "cell_type": "code",
   "execution_count": null,
   "id": "7406fa1d-542b-40ea-ad8b-9d300a53f133",
   "metadata": {},
   "outputs": [],
   "source": [
    "# count the number of vowels in each word of given list\n",
    "fruits = [\"apple\", \"mango\", \"chikoo\", 'vaccuum']\n",
    "vowels = ['a','e','i','o','u']\n",
    "for i in fruits:\n",
    "    counta = counte = counti = counto = countu = 0\n",
    "    print(i)\n",
    "    for j in range(0,len(i)):   \n",
    "        for k in vowels:            \n",
    "            if(i[j] == k):                \n",
    "                match k:\n",
    "                    case 'a':counta+=1\n",
    "                    case 'e':counte+=1\n",
    "                    case 'i':counti+=1\n",
    "                    case 'o':counto+=1\n",
    "                    case 'u':countu+=1\n",
    "                    case default:continue\n",
    "    print(\"a: \", counta)\n",
    "    print(\"e: \", counte)\n",
    "    print(\"i: \", counti)\n",
    "    print(\"o: \", counto)\n",
    "    print(\"u: \", countu)\n",
    "print(\"\")"
   ]
  },
  {
   "cell_type": "code",
   "execution_count": null,
   "id": "bd80930b-315c-4daf-a5e2-ef51c089a4f2",
   "metadata": {},
   "outputs": [],
   "source": [
    "# guess and create as many words from a given set of letters\n",
    "words = ['car', 'art', 'rat', 'cart','cat']\n",
    "point = 0\n",
    "chances = len(words)\n",
    "while(chances > 0):\n",
    "    guess = input(\"enter your gues using letters a, c, r, t: \")\n",
    "    if guess in words:\n",
    "        print(\"correct guess\")\n",
    "        point = point + 1\n",
    "        words.remove(guess)\n",
    "    else:\n",
    "        print(\"incorrect, try again\")\n",
    "        chances = chances - 1\n",
    "print(\"Your total points are: \", point)"
   ]
  }
 ],
 "metadata": {
  "kernelspec": {
   "display_name": "Python 3 (ipykernel)",
   "language": "python",
   "name": "python3"
  },
  "language_info": {
   "codemirror_mode": {
    "name": "ipython",
    "version": 3
   },
   "file_extension": ".py",
   "mimetype": "text/x-python",
   "name": "python",
   "nbconvert_exporter": "python",
   "pygments_lexer": "ipython3",
   "version": "3.11.7"
  }
 },
 "nbformat": 4,
 "nbformat_minor": 5
}

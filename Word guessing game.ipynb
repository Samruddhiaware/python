{
 "cells": [
  {
   "cell_type": "code",
   "execution_count": 2,
   "id": "8281fa93-519e-4f92-8b85-9f1ea38f0f21",
   "metadata": {},
   "outputs": [
    {
     "name": "stdout",
     "output_type": "stream",
     "text": [
      "Level 1\n",
      "Create 3 words using the given letters\n",
      "h\to\tl\ti\td\ta\ty\t\n"
     ]
    },
    {
     "name": "stdin",
     "output_type": "stream",
     "text": [
      "Word:  day\n",
      "Word:  hold\n",
      "Word:  hi\n",
      "Do you want to continue to next level? (y/n)  y\n"
     ]
    },
    {
     "name": "stdout",
     "output_type": "stream",
     "text": [
      "Level 2\n",
      "Create 3 words using the given letters\n",
      "p\tr\to\tg\tr\ta\tm\tm\ti\tn\tg\t\n"
     ]
    },
    {
     "name": "stdin",
     "output_type": "stream",
     "text": [
      "Word:  gap\n",
      "Word:  go\n",
      "Word:  rag\n",
      "Do you want to continue to next level? (y/n)  y\n"
     ]
    },
    {
     "name": "stdout",
     "output_type": "stream",
     "text": [
      "Level 3\n",
      "Create 3 words using the given letters\n",
      "b\to\to\tt\tc\ta\tm\tp\t\n"
     ]
    },
    {
     "name": "stdin",
     "output_type": "stream",
     "text": [
      "Word:  cat\n"
     ]
    },
    {
     "name": "stdout",
     "output_type": "stream",
     "text": [
      "Wrong Guess\n"
     ]
    },
    {
     "name": "stdin",
     "output_type": "stream",
     "text": [
      "Word:  map\n",
      "Word:  bot\n"
     ]
    },
    {
     "name": "stdout",
     "output_type": "stream",
     "text": [
      "Wrong Guess\n"
     ]
    },
    {
     "name": "stdin",
     "output_type": "stream",
     "text": [
      "Word:  camp\n",
      "Word:  cam\n"
     ]
    },
    {
     "name": "stdout",
     "output_type": "stream",
     "text": [
      "Wrong Guess\n"
     ]
    },
    {
     "name": "stdin",
     "output_type": "stream",
     "text": [
      "Word:  bat\n",
      "Do you want to continue to next level? (y/n)  y\n"
     ]
    },
    {
     "name": "stdout",
     "output_type": "stream",
     "text": [
      "Level 4\n",
      "Create 3 words using the given letters\n",
      "f\tl\to\tw\tc\th\ta\tr\tt\t\n"
     ]
    },
    {
     "name": "stdin",
     "output_type": "stream",
     "text": [
      "Word:  flow\n",
      "Word:  chart\n"
     ]
    },
    {
     "name": "stdout",
     "output_type": "stream",
     "text": [
      "Wrong Guess\n"
     ]
    },
    {
     "name": "stdin",
     "output_type": "stream",
     "text": [
      "Word:  cow\n",
      "Word:  cat\n"
     ]
    },
    {
     "name": "stdout",
     "output_type": "stream",
     "text": [
      "Wrong Guess\n",
      "Game Over!! Better Luck Next Time!!\n",
      "Your score is 11\n"
     ]
    }
   ],
   "source": [
    "letters = [['h','o','l','i','d','a','y'],\n",
    "\n",
    "           ['p', 'r', 'o', 'g', 'r', 'a', 'm', 'm','i','n','g'],\n",
    "\n",
    "           ['b','o','o','t','c','a','m','p'],\n",
    "\n",
    "           ['f','l','o','w','c','h','a','r','t'],\n",
    "\n",
    "           ['w', 'o', 'r', 'd', 's', 'c', 'a','p','e','s']]\n",
    "\n",
    " \n",
    "\n",
    "words = [[\"hi\",\"hay\",\"day\",\"had\",\"lay\",\"dal\",\"lad\",\"lid\",\"hold\",\"lady\",\"hail\"],\n",
    "\n",
    "         [\"go\",\"an\",\"in\",\"no\",\"on\",\"map\",\"mop\",\"mom\",\"gap\",\"gag\",\"rag\",\"pig\",\"man\",\"ping\",\n",
    "\n",
    "          \"pong\",\"pram\",\"prom\",\"ramp\"],\n",
    "\n",
    "         [\"am\",\"at\",\"to\",\"cab\",\"cap\",\"cob\",\"cop\",\"map\",\"mop\",\"act\",\"bat\",\"camp\",\n",
    "          \"comb\",\"boom\",\"pact\",\"atom\"],\n",
    "\n",
    "         [\"of\",\"at\",\"or\",\"to\",\"cat\",\"cow\",\"how\",\"who\",\"calf\",\"claw\",\"flaw\",\"flow\",\n",
    "\n",
    "          \"fowl\",\"wolf\",\"crow\",\"half\"],\n",
    "\n",
    "         [\"we\",\"do\",\"as\",\"cap\",\"caw\",\"cop\",\"cow\",\"paw\",\"cod\",\"dew\",\"pad\",\"cape\",\n",
    "\n",
    "          \"cope\",\"crap\",\"crew\",\"crop\",\"pace\"]];\n",
    "\n",
    " \n",
    "\n",
    "lives = 5;\n",
    "\n",
    "level = 0;\n",
    "\n",
    "score = 0;\n",
    "\n",
    " \n",
    "\n",
    "while level < 5 :\n",
    "\n",
    "    print('Level {}'.format(level+1))\n",
    "\n",
    "    print('Create 3 words using the given letters')\n",
    "\n",
    " \n",
    "\n",
    "    for c in letters[level]:\n",
    "\n",
    "        print('{}\\t'.format(c),end='');\n",
    "\n",
    "    print()\n",
    "\n",
    " \n",
    "\n",
    "    wordCount = 0;\n",
    "\n",
    "    watch = False;\n",
    "\n",
    "    word = '';\n",
    "\n",
    "    oldWord = '';\n",
    "\n",
    " \n",
    "\n",
    "    while wordCount == 0 or wordCount < 3:\n",
    "\n",
    "        match = False;       \n",
    "\n",
    "        word = input('Word: ')\n",
    "\n",
    " \n",
    "\n",
    "        if not(word.lower() == oldWord.lower()):\n",
    "\n",
    "            for w in words[level]:\n",
    "\n",
    "                if(word.lower() == w):\n",
    "\n",
    "                    wordCount += 1\n",
    "\n",
    "                    score += 1\n",
    "\n",
    "                    oldWord = word\n",
    "\n",
    "                    match = True\n",
    "\n",
    "                    break\n",
    "\n",
    " \n",
    "\n",
    "        if not match:\n",
    "\n",
    "            print('Wrong Guess')\n",
    "\n",
    "            lives -= 1\n",
    "\n",
    " \n",
    "\n",
    "        if lives == 0:\n",
    "\n",
    "            print('Game Over!! Better Luck Next Time!!')\n",
    "\n",
    "            print('Your score is {}'.format(score))\n",
    "\n",
    "            break\n",
    "\n",
    "       \n",
    "\n",
    "    wordCount = 0\n",
    "\n",
    "    match = False\n",
    "\n",
    "    word = ''\n",
    "\n",
    " \n",
    "\n",
    "    if lives == 0:\n",
    "\n",
    "        break\n",
    "\n",
    "    if level == 4:\n",
    "\n",
    "        print('Thanks for playing the game!!!')\n",
    "\n",
    "        print('Your score is {}'.format(score))\n",
    "\n",
    "        level += 1\n",
    "\n",
    "    else:\n",
    "\n",
    "        choice = input('Do you want to continue to next level? (y/n) ')\n",
    "\n",
    "        if(choice.lower()[0] == 'y'):\n",
    "\n",
    "            level += 1\n",
    "\n",
    "        else:\n",
    "\n",
    "            print('Thanks for playing the game!!!')\n",
    "\n",
    "            print('Your score is {}'.format(score))\n",
    "\n",
    "            break"
   ]
  },
  {
   "cell_type": "code",
   "execution_count": null,
   "id": "6d2dbcb9-ad80-407e-b02c-30905a8a6029",
   "metadata": {},
   "outputs": [],
   "source": []
  }
 ],
 "metadata": {
  "kernelspec": {
   "display_name": "Python 3 (ipykernel)",
   "language": "python",
   "name": "python3"
  },
  "language_info": {
   "codemirror_mode": {
    "name": "ipython",
    "version": 3
   },
   "file_extension": ".py",
   "mimetype": "text/x-python",
   "name": "python",
   "nbconvert_exporter": "python",
   "pygments_lexer": "ipython3",
   "version": "3.11.7"
  }
 },
 "nbformat": 4,
 "nbformat_minor": 5
}
